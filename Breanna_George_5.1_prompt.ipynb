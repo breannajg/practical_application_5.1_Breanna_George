{
 "cells": [
  {
   "cell_type": "markdown",
   "metadata": {},
   "source": [
    "## Breanna George submission\n",
    "### Will a Customer Accept the Coupon?\n",
    "\n",
    "**Context**\n",
    "\n",
    "Imagine driving through town and a coupon is delivered to your cell phone for a restaraunt near where you are driving. Would you accept that coupon and take a short detour to the restaraunt? Would you accept the coupon but use it on a sunbsequent trip? Would you ignore the coupon entirely? What if the coupon was for a bar instead of a restaraunt? What about a coffee house? Would you accept a bar coupon with a minor passenger in the car? What about if it was just you and your partner in the car? Would weather impact the rate of acceptance? What about the time of day?\n",
    "\n",
    "Obviously, proximity to the business is a factor on whether the coupon is delivered to the driver or not, but what are the factors that determine whether a driver accepts the coupon once it is delivered to them? How would you determine whether a driver is likely to accept a coupon?\n",
    "\n",
    "**Overview**\n",
    "\n",
    "The goal of this project is to use what you know about visualizations and probability distributions to distinguish between customers who accepted a driving coupon versus those that did not.\n",
    "\n",
    "**Data**\n",
    "\n",
    "This data comes to us from the UCI Machine Learning repository and was collected via a survey on Amazon Mechanical Turk. The survey describes different driving scenarios including the destination, current time, weather, passenger, etc., and then ask the person whether he will accept the coupon if he is the driver. Answers that the user will drive there ‘right away’ or ‘later before the coupon expires’ are labeled as ‘Y = 1’ and answers ‘no, I do not want the coupon’ are labeled as ‘Y = 0’.  There are five different types of coupons -- less expensive restaurants (under \\\\$20), coffee houses, carry out & take away, bar, and more expensive restaurants (\\\\$20 - \\\\$50). "
   ]
  },
  {
   "cell_type": "code",
   "execution_count": null,
   "metadata": {},
   "outputs": [],
   "source": []
  },
  {
   "cell_type": "markdown",
   "metadata": {},
   "source": [
    "**Deliverables**\n",
    "\n",
    "Your final product should be a brief report that highlights the differences between customers who did and did not accept the coupons.  To explore the data you will utilize your knowledge of plotting, statistical summaries, and visualization using Python. You will publish your findings in a public facing github repository as your first portfolio piece. \n",
    "\n",
    "\n",
    "\n"
   ]
  },
  {
   "cell_type": "markdown",
   "metadata": {},
   "source": [
    "### Data Description\n",
    "Keep in mind that these values mentioned below are average values.\n",
    "\n",
    "The attributes of this data set include:\n",
    "1. User attributes\n",
    "    -  Gender: male, female\n",
    "    -  Age: below 21, 21 to 25, 26 to 30, etc.\n",
    "    -  Marital Status: single, married partner, unmarried partner, or widowed\n",
    "    -  Number of children: 0, 1, or more than 1\n",
    "    -  Education: high school, bachelors degree, associates degree, or graduate degree\n",
    "    -  Occupation: architecture & engineering, business & financial, etc.\n",
    "    -  Annual income: less than \\\\$12500, \\\\$12500 - \\\\$24999, \\\\$25000 - \\\\$37499, etc.\n",
    "    -  Number of times that he/she goes to a bar: 0, less than 1, 1 to 3, 4 to 8 or greater than 8\n",
    "    -  Number of times that he/she buys takeaway food: 0, less than 1, 1 to 3, 4 to 8 or greater\n",
    "    than 8\n",
    "    -  Number of times that he/she goes to a coffee house: 0, less than 1, 1 to 3, 4 to 8 or\n",
    "    greater than 8\n",
    "    -  Number of times that he/she eats at a restaurant with average expense less than \\\\$20 per\n",
    "    person: 0, less than 1, 1 to 3, 4 to 8 or greater than 8\n",
    "    -  Number of times that he/she goes to a bar: 0, less than 1, 1 to 3, 4 to 8 or greater than 8\n",
    "    \n",
    "\n",
    "2. Contextual attributes\n",
    "    - Driving destination: home, work, or no urgent destination\n",
    "    - Location of user, coupon and destination: we provide a map to show the geographical\n",
    "    location of the user, destination, and the venue, and we mark the distance between each\n",
    "    two places with time of driving. The user can see whether the venue is in the same\n",
    "    direction as the destination.\n",
    "    - Weather: sunny, rainy, or snowy\n",
    "    - Temperature: 30F, 55F, or 80F\n",
    "    - Time: 10AM, 2PM, or 6PM\n",
    "    - Passenger: alone, partner, kid(s), or friend(s)\n",
    "\n",
    "\n",
    "3. Coupon attributes\n",
    "    - time before it expires: 2 hours or one day"
   ]
  },
  {
   "cell_type": "code",
   "execution_count": 10,
   "metadata": {},
   "outputs": [],
   "source": [
    "import matplotlib.pyplot as plt\n",
    "import seaborn as sns\n",
    "import pandas as pd\n",
    "import numpy as np"
   ]
  },
  {
   "cell_type": "markdown",
   "metadata": {},
   "source": [
    "### Problems\n",
    "\n",
    "Use the prompts below to get started with your data analysis.  \n",
    "\n",
    "1. Read in the `coupons.csv` file.\n",
    "\n",
    "\n"
   ]
  },
  {
   "cell_type": "code",
   "execution_count": 15,
   "metadata": {},
   "outputs": [],
   "source": [
    "#data = pd.read_csv('data/coupons.csv')\n",
    "#I saved this locally on my machine:\n",
    "data = pd.read_csv(r'C:\\Users\\brean\\Documents\\BerkAIML\\coupons.csv')"
   ]
  },
  {
   "cell_type": "code",
   "execution_count": 17,
   "metadata": {},
   "outputs": [
    {
     "data": {
      "text/html": [
       "<div>\n",
       "<style scoped>\n",
       "    .dataframe tbody tr th:only-of-type {\n",
       "        vertical-align: middle;\n",
       "    }\n",
       "\n",
       "    .dataframe tbody tr th {\n",
       "        vertical-align: top;\n",
       "    }\n",
       "\n",
       "    .dataframe thead th {\n",
       "        text-align: right;\n",
       "    }\n",
       "</style>\n",
       "<table border=\"1\" class=\"dataframe\">\n",
       "  <thead>\n",
       "    <tr style=\"text-align: right;\">\n",
       "      <th></th>\n",
       "      <th>destination</th>\n",
       "      <th>passanger</th>\n",
       "      <th>weather</th>\n",
       "      <th>temperature</th>\n",
       "      <th>time</th>\n",
       "      <th>coupon</th>\n",
       "      <th>expiration</th>\n",
       "      <th>gender</th>\n",
       "      <th>age</th>\n",
       "      <th>maritalStatus</th>\n",
       "      <th>...</th>\n",
       "      <th>CoffeeHouse</th>\n",
       "      <th>CarryAway</th>\n",
       "      <th>RestaurantLessThan20</th>\n",
       "      <th>Restaurant20To50</th>\n",
       "      <th>toCoupon_GEQ5min</th>\n",
       "      <th>toCoupon_GEQ15min</th>\n",
       "      <th>toCoupon_GEQ25min</th>\n",
       "      <th>direction_same</th>\n",
       "      <th>direction_opp</th>\n",
       "      <th>Y</th>\n",
       "    </tr>\n",
       "  </thead>\n",
       "  <tbody>\n",
       "    <tr>\n",
       "      <th>0</th>\n",
       "      <td>No Urgent Place</td>\n",
       "      <td>Alone</td>\n",
       "      <td>Sunny</td>\n",
       "      <td>55</td>\n",
       "      <td>2PM</td>\n",
       "      <td>Restaurant(&lt;20)</td>\n",
       "      <td>1d</td>\n",
       "      <td>Female</td>\n",
       "      <td>21</td>\n",
       "      <td>Unmarried partner</td>\n",
       "      <td>...</td>\n",
       "      <td>never</td>\n",
       "      <td>NaN</td>\n",
       "      <td>4~8</td>\n",
       "      <td>1~3</td>\n",
       "      <td>1</td>\n",
       "      <td>0</td>\n",
       "      <td>0</td>\n",
       "      <td>0</td>\n",
       "      <td>1</td>\n",
       "      <td>1</td>\n",
       "    </tr>\n",
       "    <tr>\n",
       "      <th>1</th>\n",
       "      <td>No Urgent Place</td>\n",
       "      <td>Friend(s)</td>\n",
       "      <td>Sunny</td>\n",
       "      <td>80</td>\n",
       "      <td>10AM</td>\n",
       "      <td>Coffee House</td>\n",
       "      <td>2h</td>\n",
       "      <td>Female</td>\n",
       "      <td>21</td>\n",
       "      <td>Unmarried partner</td>\n",
       "      <td>...</td>\n",
       "      <td>never</td>\n",
       "      <td>NaN</td>\n",
       "      <td>4~8</td>\n",
       "      <td>1~3</td>\n",
       "      <td>1</td>\n",
       "      <td>0</td>\n",
       "      <td>0</td>\n",
       "      <td>0</td>\n",
       "      <td>1</td>\n",
       "      <td>0</td>\n",
       "    </tr>\n",
       "    <tr>\n",
       "      <th>2</th>\n",
       "      <td>No Urgent Place</td>\n",
       "      <td>Friend(s)</td>\n",
       "      <td>Sunny</td>\n",
       "      <td>80</td>\n",
       "      <td>10AM</td>\n",
       "      <td>Carry out &amp; Take away</td>\n",
       "      <td>2h</td>\n",
       "      <td>Female</td>\n",
       "      <td>21</td>\n",
       "      <td>Unmarried partner</td>\n",
       "      <td>...</td>\n",
       "      <td>never</td>\n",
       "      <td>NaN</td>\n",
       "      <td>4~8</td>\n",
       "      <td>1~3</td>\n",
       "      <td>1</td>\n",
       "      <td>1</td>\n",
       "      <td>0</td>\n",
       "      <td>0</td>\n",
       "      <td>1</td>\n",
       "      <td>1</td>\n",
       "    </tr>\n",
       "    <tr>\n",
       "      <th>3</th>\n",
       "      <td>No Urgent Place</td>\n",
       "      <td>Friend(s)</td>\n",
       "      <td>Sunny</td>\n",
       "      <td>80</td>\n",
       "      <td>2PM</td>\n",
       "      <td>Coffee House</td>\n",
       "      <td>2h</td>\n",
       "      <td>Female</td>\n",
       "      <td>21</td>\n",
       "      <td>Unmarried partner</td>\n",
       "      <td>...</td>\n",
       "      <td>never</td>\n",
       "      <td>NaN</td>\n",
       "      <td>4~8</td>\n",
       "      <td>1~3</td>\n",
       "      <td>1</td>\n",
       "      <td>1</td>\n",
       "      <td>0</td>\n",
       "      <td>0</td>\n",
       "      <td>1</td>\n",
       "      <td>0</td>\n",
       "    </tr>\n",
       "    <tr>\n",
       "      <th>4</th>\n",
       "      <td>No Urgent Place</td>\n",
       "      <td>Friend(s)</td>\n",
       "      <td>Sunny</td>\n",
       "      <td>80</td>\n",
       "      <td>2PM</td>\n",
       "      <td>Coffee House</td>\n",
       "      <td>1d</td>\n",
       "      <td>Female</td>\n",
       "      <td>21</td>\n",
       "      <td>Unmarried partner</td>\n",
       "      <td>...</td>\n",
       "      <td>never</td>\n",
       "      <td>NaN</td>\n",
       "      <td>4~8</td>\n",
       "      <td>1~3</td>\n",
       "      <td>1</td>\n",
       "      <td>1</td>\n",
       "      <td>0</td>\n",
       "      <td>0</td>\n",
       "      <td>1</td>\n",
       "      <td>0</td>\n",
       "    </tr>\n",
       "  </tbody>\n",
       "</table>\n",
       "<p>5 rows × 26 columns</p>\n",
       "</div>"
      ],
      "text/plain": [
       "       destination  passanger weather  temperature  time  \\\n",
       "0  No Urgent Place      Alone   Sunny           55   2PM   \n",
       "1  No Urgent Place  Friend(s)   Sunny           80  10AM   \n",
       "2  No Urgent Place  Friend(s)   Sunny           80  10AM   \n",
       "3  No Urgent Place  Friend(s)   Sunny           80   2PM   \n",
       "4  No Urgent Place  Friend(s)   Sunny           80   2PM   \n",
       "\n",
       "                  coupon expiration  gender age      maritalStatus  ...  \\\n",
       "0        Restaurant(<20)         1d  Female  21  Unmarried partner  ...   \n",
       "1           Coffee House         2h  Female  21  Unmarried partner  ...   \n",
       "2  Carry out & Take away         2h  Female  21  Unmarried partner  ...   \n",
       "3           Coffee House         2h  Female  21  Unmarried partner  ...   \n",
       "4           Coffee House         1d  Female  21  Unmarried partner  ...   \n",
       "\n",
       "   CoffeeHouse CarryAway RestaurantLessThan20 Restaurant20To50  \\\n",
       "0        never       NaN                  4~8              1~3   \n",
       "1        never       NaN                  4~8              1~3   \n",
       "2        never       NaN                  4~8              1~3   \n",
       "3        never       NaN                  4~8              1~3   \n",
       "4        never       NaN                  4~8              1~3   \n",
       "\n",
       "  toCoupon_GEQ5min toCoupon_GEQ15min toCoupon_GEQ25min direction_same  \\\n",
       "0                1                 0                 0              0   \n",
       "1                1                 0                 0              0   \n",
       "2                1                 1                 0              0   \n",
       "3                1                 1                 0              0   \n",
       "4                1                 1                 0              0   \n",
       "\n",
       "  direction_opp  Y  \n",
       "0             1  1  \n",
       "1             1  0  \n",
       "2             1  1  \n",
       "3             1  0  \n",
       "4             1  0  \n",
       "\n",
       "[5 rows x 26 columns]"
      ]
     },
     "execution_count": 17,
     "metadata": {},
     "output_type": "execute_result"
    }
   ],
   "source": [
    "data.head()"
   ]
  },
  {
   "cell_type": "markdown",
   "metadata": {},
   "source": [
    "2. Investigate the dataset for missing or problematic data."
   ]
  },
  {
   "cell_type": "code",
   "execution_count": 19,
   "metadata": {},
   "outputs": [
    {
     "name": "stdout",
     "output_type": "stream",
     "text": [
      "<class 'pandas.core.frame.DataFrame'>\n",
      "RangeIndex: 12684 entries, 0 to 12683\n",
      "Data columns (total 26 columns):\n",
      " #   Column                Non-Null Count  Dtype \n",
      "---  ------                --------------  ----- \n",
      " 0   destination           12684 non-null  object\n",
      " 1   passanger             12684 non-null  object\n",
      " 2   weather               12684 non-null  object\n",
      " 3   temperature           12684 non-null  int64 \n",
      " 4   time                  12684 non-null  object\n",
      " 5   coupon                12684 non-null  object\n",
      " 6   expiration            12684 non-null  object\n",
      " 7   gender                12684 non-null  object\n",
      " 8   age                   12684 non-null  object\n",
      " 9   maritalStatus         12684 non-null  object\n",
      " 10  has_children          12684 non-null  int64 \n",
      " 11  education             12684 non-null  object\n",
      " 12  occupation            12684 non-null  object\n",
      " 13  income                12684 non-null  object\n",
      " 14  car                   108 non-null    object\n",
      " 15  Bar                   12577 non-null  object\n",
      " 16  CoffeeHouse           12467 non-null  object\n",
      " 17  CarryAway             12533 non-null  object\n",
      " 18  RestaurantLessThan20  12554 non-null  object\n",
      " 19  Restaurant20To50      12495 non-null  object\n",
      " 20  toCoupon_GEQ5min      12684 non-null  int64 \n",
      " 21  toCoupon_GEQ15min     12684 non-null  int64 \n",
      " 22  toCoupon_GEQ25min     12684 non-null  int64 \n",
      " 23  direction_same        12684 non-null  int64 \n",
      " 24  direction_opp         12684 non-null  int64 \n",
      " 25  Y                     12684 non-null  int64 \n",
      "dtypes: int64(8), object(18)\n",
      "memory usage: 2.5+ MB\n"
     ]
    },
    {
     "data": {
      "text/plain": [
       "(None,\n",
       "         temperature  has_children  toCoupon_GEQ5min  toCoupon_GEQ15min  \\\n",
       " count  12684.000000  12684.000000           12684.0       12684.000000   \n",
       " mean      63.301798      0.414144               1.0           0.561495   \n",
       " std       19.154486      0.492593               0.0           0.496224   \n",
       " min       30.000000      0.000000               1.0           0.000000   \n",
       " 25%       55.000000      0.000000               1.0           0.000000   \n",
       " 50%       80.000000      0.000000               1.0           1.000000   \n",
       " 75%       80.000000      1.000000               1.0           1.000000   \n",
       " max       80.000000      1.000000               1.0           1.000000   \n",
       " \n",
       "        toCoupon_GEQ25min  direction_same  direction_opp             Y  \n",
       " count       12684.000000    12684.000000   12684.000000  12684.000000  \n",
       " mean            0.119126        0.214759       0.785241      0.568433  \n",
       " std             0.323950        0.410671       0.410671      0.495314  \n",
       " min             0.000000        0.000000       0.000000      0.000000  \n",
       " 25%             0.000000        0.000000       1.000000      0.000000  \n",
       " 50%             0.000000        0.000000       1.000000      1.000000  \n",
       " 75%             0.000000        0.000000       1.000000      1.000000  \n",
       " max             1.000000        1.000000       1.000000      1.000000  ,\n",
       " destination                 0\n",
       " passanger                   0\n",
       " weather                     0\n",
       " temperature                 0\n",
       " time                        0\n",
       " coupon                      0\n",
       " expiration                  0\n",
       " gender                      0\n",
       " age                         0\n",
       " maritalStatus               0\n",
       " has_children                0\n",
       " education                   0\n",
       " occupation                  0\n",
       " income                      0\n",
       " car                     12576\n",
       " Bar                       107\n",
       " CoffeeHouse               217\n",
       " CarryAway                 151\n",
       " RestaurantLessThan20      130\n",
       " Restaurant20To50          189\n",
       " toCoupon_GEQ5min            0\n",
       " toCoupon_GEQ15min           0\n",
       " toCoupon_GEQ25min           0\n",
       " direction_same              0\n",
       " direction_opp               0\n",
       " Y                           0\n",
       " dtype: int64,\n",
       " 74,\n",
       " destination              3\n",
       " passanger                4\n",
       " weather                  3\n",
       " time                     5\n",
       " coupon                   5\n",
       " expiration               2\n",
       " gender                   2\n",
       " age                      8\n",
       " maritalStatus            5\n",
       " education                6\n",
       " occupation              25\n",
       " income                   9\n",
       " car                      5\n",
       " Bar                      5\n",
       " CoffeeHouse              5\n",
       " CarryAway                5\n",
       " RestaurantLessThan20     5\n",
       " Restaurant20To50         5\n",
       " dtype: int64)"
      ]
     },
     "execution_count": 19,
     "metadata": {},
     "output_type": "execute_result"
    }
   ],
   "source": [
    "# Checking information on dataset\n",
    "data_info = data.info()\n",
    "\n",
    "# checking summary stats for the num columns \n",
    "data_describe = data.describe()\n",
    "\n",
    "# checking for duplicate rows\n",
    "duplicate_rows = data.duplicated().sum()\n",
    "\n",
    "# checking unique value counts for categorical columns\n",
    "categorical_columns = data.select_dtypes(include=['object']).columns\n",
    "unique_values = data[categorical_columns].nunique()\n",
    "\n",
    "# checking for missing values\n",
    "missing_values = data.isnull().sum()\n",
    "\n",
    "data_info, data_describe, missing_values, duplicate_rows, unique_values"
   ]
  },
  {
   "cell_type": "markdown",
   "metadata": {},
   "source": [
    "3. Decide what to do about your missing data -- drop, replace, other..."
   ]
  },
  {
   "cell_type": "code",
   "execution_count": 21,
   "metadata": {},
   "outputs": [
    {
     "data": {
      "text/plain": [
       "destination             0\n",
       "passanger               0\n",
       "weather                 0\n",
       "temperature             0\n",
       "time                    0\n",
       "coupon                  0\n",
       "expiration              0\n",
       "gender                  0\n",
       "age                     0\n",
       "maritalStatus           0\n",
       "has_children            0\n",
       "education               0\n",
       "occupation              0\n",
       "income                  0\n",
       "Bar                     0\n",
       "CoffeeHouse             0\n",
       "CarryAway               0\n",
       "RestaurantLessThan20    0\n",
       "Restaurant20To50        0\n",
       "toCoupon_GEQ5min        0\n",
       "toCoupon_GEQ15min       0\n",
       "toCoupon_GEQ25min       0\n",
       "direction_same          0\n",
       "direction_opp           0\n",
       "Y                       0\n",
       "dtype: int64"
      ]
     },
     "execution_count": 21,
     "metadata": {},
     "output_type": "execute_result"
    }
   ],
   "source": [
    "# droping the 'car' column\n",
    "data = data.drop(columns=['car'])\n",
    "\n",
    "# replacing missing values with the mode in relevant columns\n",
    "imputecolumns = ['Bar', 'CoffeeHouse', 'CarryAway', 'RestaurantLessThan20', 'Restaurant20To50']\n",
    "\n",
    "for column in imputecolumns:\n",
    "    mode_value = data[column].mode()[0]\n",
    "    data[column].fillna(mode_value, inplace=True)\n",
    "\n",
    "# check now that there are no more missing values\n",
    "missing_values_chk = data.isnull().sum()\n",
    "\n",
    "missing_values_chk\n"
   ]
  },
  {
   "cell_type": "markdown",
   "metadata": {},
   "source": [
    "4. What proportion of the total observations chose to accept the coupon? \n",
    "\n"
   ]
  },
  {
   "cell_type": "code",
   "execution_count": 29,
   "metadata": {},
   "outputs": [
    {
     "name": "stdout",
     "output_type": "stream",
     "text": [
      "Proportion of observations that accepted the coupon: 0.57\n"
     ]
    }
   ],
   "source": [
    "# get the # of observations where the coupon was accepted  \n",
    "coupon_accepted = data['Y'].sum()\n",
    "\n",
    "# get the total number of observations\n",
    "tot_obs = data.shape[0]\n",
    "\n",
    "# get the proportion\n",
    "proportion_accepted = coupon_accepted / tot_obs\n",
    "\n",
    "print(f\"Proportion of observations that accepted the coupon: {proportion_accepted:.2f}\")"
   ]
  },
  {
   "cell_type": "markdown",
   "metadata": {},
   "source": [
    "5. Use a bar plot to visualize the `coupon` column."
   ]
  },
  {
   "cell_type": "code",
   "execution_count": 31,
   "metadata": {},
   "outputs": [
    {
     "data": {
      "image/png": "[encoded data removed]",
      "text/plain": [
       "<Figure size 1000x600 with 1 Axes>"
      ]
     },
     "metadata": {},
     "output_type": "display_data"
    }
   ],
   "source": [
    "plt.figure(figsize=(10, 6))\n",
    "sns.countplot(data=data, x='coupon', palette='viridis')\n",
    "plt.title('Distribution of the Coupons')\n",
    "plt.xlabel('Coupon Type')\n",
    "plt.ylabel('Coupon Count')\n",
    "plt.xticks(rotation=45)\n",
    "plt.show()"
   ]
  },
  {
   "cell_type": "markdown",
   "metadata": {},
   "source": [
    "6. Use a histogram to visualize the temperature column."
   ]
  },
  {
   "cell_type": "code",
   "execution_count": 36,
   "metadata": {},
   "outputs": [
    {
     "name": "stderr",
     "output_type": "stream",
     "text": [
      "C:\\Users\\brean\\anaconda3\\Lib\\site-packages\\seaborn\\_oldcore.py:1119: FutureWarning: use_inf_as_na option is deprecated and will be removed in a future version. Convert inf values to NaN before operating instead.\n",
      "  with pd.option_context('mode.use_inf_as_na', True):\n"
     ]
    },
    {
     "data": {
      "image/png": "[encoded data removed]",
      "text/plain": [
       "<Figure size 1000x600 with 1 Axes>"
      ]
     },
     "metadata": {},
     "output_type": "display_data"
    }
   ],
   "source": [
    "plt.figure(figsize=(10, 6))\n",
    "sns.histplot(data['temperature'], kde=True, bins=30, color='blue')\n",
    "plt.title('Temperature Distribution Histogram')\n",
    "plt.xlabel('Temperature')\n",
    "plt.ylabel('Frequency')\n",
    "plt.show()"
   ]
  },
  {
   "cell_type": "code",
   "execution_count": null,
   "metadata": {},
   "outputs": [],
   "source": []
  },
  {
   "cell_type": "code",
   "execution_count": null,
   "metadata": {},
   "outputs": [],
   "source": []
  },
  {
   "cell_type": "code",
   "execution_count": null,
   "metadata": {},
   "outputs": [],
   "source": []
  },
  {
   "cell_type": "code",
   "execution_count": null,
   "metadata": {},
   "outputs": [],
   "source": []
  },
  {
   "cell_type": "markdown",
   "metadata": {},
   "source": [
    "**Investigating the Bar Coupons**\n",
    "\n",
    "Now, we will lead you through an exploration of just the bar related coupons.  \n",
    "\n",
    "1. Create a new `DataFrame` that contains just the bar coupons.\n"
   ]
  },
  {
   "cell_type": "code",
   "execution_count": 41,
   "metadata": {},
   "outputs": [
    {
     "name": "stdout",
     "output_type": "stream",
     "text": [
      "           destination  passanger weather  temperature  time coupon  \\\n",
      "9      No Urgent Place     Kid(s)   Sunny           80  10AM    Bar   \n",
      "13                Home      Alone   Sunny           55   6PM    Bar   \n",
      "17                Work      Alone   Sunny           55   7AM    Bar   \n",
      "24     No Urgent Place  Friend(s)   Sunny           80  10AM    Bar   \n",
      "35                Home      Alone   Sunny           55   6PM    Bar   \n",
      "...                ...        ...     ...          ...   ...    ...   \n",
      "12663  No Urgent Place  Friend(s)   Sunny           80  10PM    Bar   \n",
      "12664  No Urgent Place  Friend(s)   Sunny           55  10PM    Bar   \n",
      "12667  No Urgent Place      Alone   Rainy           55  10AM    Bar   \n",
      "12670  No Urgent Place    Partner   Rainy           55   6PM    Bar   \n",
      "12682             Work      Alone   Snowy           30   7AM    Bar   \n",
      "\n",
      "      expiration  gender age      maritalStatus  ...  CoffeeHouse CarryAway  \\\n",
      "9             1d  Female  21  Unmarried partner  ...        never       1~3   \n",
      "13            1d  Female  21  Unmarried partner  ...        never       1~3   \n",
      "17            1d  Female  21  Unmarried partner  ...        never       1~3   \n",
      "24            1d    Male  21             Single  ...        less1       4~8   \n",
      "35            1d    Male  21             Single  ...        less1       4~8   \n",
      "...          ...     ...  ..                ...  ...          ...       ...   \n",
      "12663         1d    Male  26             Single  ...        never       1~3   \n",
      "12664         2h    Male  26             Single  ...        never       1~3   \n",
      "12667         1d    Male  26             Single  ...        never       1~3   \n",
      "12670         2h    Male  26             Single  ...        never       1~3   \n",
      "12682         1d    Male  26             Single  ...        never       1~3   \n",
      "\n",
      "      RestaurantLessThan20 Restaurant20To50 toCoupon_GEQ5min  \\\n",
      "9                      4~8              1~3                1   \n",
      "13                     4~8              1~3                1   \n",
      "17                     4~8              1~3                1   \n",
      "24                     4~8            less1                1   \n",
      "35                     4~8            less1                1   \n",
      "...                    ...              ...              ...   \n",
      "12663                  4~8              1~3                1   \n",
      "12664                  4~8              1~3                1   \n",
      "12667                  4~8              1~3                1   \n",
      "12670                  4~8              1~3                1   \n",
      "12682                  4~8              1~3                1   \n",
      "\n",
      "      toCoupon_GEQ15min toCoupon_GEQ25min direction_same direction_opp  Y  \n",
      "9                     1                 0              0             1  0  \n",
      "13                    0                 0              1             0  1  \n",
      "17                    1                 1              0             1  0  \n",
      "24                    0                 0              0             1  1  \n",
      "35                    0                 0              1             0  1  \n",
      "...                 ...               ...            ...           ... ..  \n",
      "12663                 1                 0              0             1  0  \n",
      "12664                 1                 0              0             1  0  \n",
      "12667                 1                 0              0             1  0  \n",
      "12670                 1                 0              0             1  0  \n",
      "12682                 1                 1              0             1  0  \n",
      "\n",
      "[2017 rows x 25 columns]\n"
     ]
    }
   ],
   "source": [
    "bar_coupons = data[data['coupon'] == 'Bar']\n",
    "print(bar_coupons)"
   ]
  },
  {
   "cell_type": "markdown",
   "metadata": {},
   "source": [
    "2. What proportion of bar coupons were accepted?\n"
   ]
  },
  {
   "cell_type": "code",
   "execution_count": 78,
   "metadata": {},
   "outputs": [
    {
     "name": "stdout",
     "output_type": "stream",
     "text": [
      "Proportion of bar observations that accepted the coupon: 41.00%\n"
     ]
    }
   ],
   "source": [
    "# get the # of observations where the coupon was accepted  \n",
    "bcoupon_accepted = bar_coupons['Y'].sum()\n",
    "\n",
    "# get the total number of observations\n",
    "tot_bobs = bar_coupons.shape[0]\n",
    "\n",
    "# get the proportion\n",
    "bproportion_accepted = bcoupon_accepted / tot_bobs\n",
    "\n",
    "print(f\"Proportion of bar observations that accepted the coupon: {bproportion_accepted:.2%}\")"
   ]
  },
  {
   "cell_type": "markdown",
   "metadata": {},
   "source": [
    "3. Compare the acceptance rate between those who went to a bar 3 or fewer times a month to those who went more.\n"
   ]
  },
  {
   "cell_type": "code",
   "execution_count": 58,
   "metadata": {},
   "outputs": [
    {
     "name": "stdout",
     "output_type": "stream",
     "text": [
      "Acceptance rate for those who went to a bar 3 or fewer times a month: 0.37073707370737075\n",
      "Acceptance rate for those who went to a bar more than 3 times a month: 0.7688442211055276\n"
     ]
    }
   ],
   "source": [
    "def acceptance_rate(bar_coupons):\n",
    "    return bar_coupons['Y'].mean()\n",
    "\n",
    "le3 = bar_coupons[bar_coupons['Bar'].isin(['never', 'less1', '1~3'])]\n",
    "mt3 = bar_coupons[bar_coupons['Bar'].isin(['4~8', 'gt8'])]\n",
    "\n",
    "rate_less_equal_3 = acceptance_rate(le3)\n",
    "rate_more_than_3 = acceptance_rate(mt3)\n",
    "\n",
    "print(\"Acceptance rate for those who went to a bar 3 or fewer times a month:\", rate_less_equal_3)\n",
    "print(\"Acceptance rate for those who went to a bar more than 3 times a month:\", rate_more_than_3)\n"
   ]
  },
  {
   "cell_type": "markdown",
   "metadata": {},
   "source": [
    "4. Compare the acceptance rate between drivers who go to a bar more than once a month and are over the age of 25 to the all others.  Is there a difference?\n"
   ]
  },
  {
   "cell_type": "code",
   "execution_count": 98,
   "metadata": {},
   "outputs": [
    {
     "name": "stdout",
     "output_type": "stream",
     "text": [
      "Acceptance rate for drivers who go to a bar >= 1 time a month and are > age 25: 68.84%\n",
      "Acceptance rate for all other drivers: 33.46%\n",
      "Is there a difference?: Yes\n"
     ]
    }
   ],
   "source": [
    "sub_1 = bar_coupons[(bar_coupons['Bar'].isin(['1~3', '4~8', 'gt8'])) & (bar_coupons['age'] > '25')]\n",
    "sub_2 = bar_coupons[~((bar_coupons['Bar'].isin(['1~3', '4~8', 'gt8'])) & (bar_coupons['age'] > '25'))]\n",
    "acceptrtsub1 = sub_1['Y'].mean()\n",
    "acceptrtsub2 = sub_2['Y'].mean()\n",
    "\n",
    "print(f\"Acceptance rate for drivers who go to a bar >= 1 time a month and are > age 25: {acceptrtsub1:.2%}\")\n",
    "print(f\"Acceptance rate for all other drivers: {acceptrtsub2:.2%}\")\n",
    "print(f\"Is there a difference?: Yes\")"
   ]
  },
  {
   "cell_type": "markdown",
   "metadata": {},
   "source": [
    "5. Use the same process to compare the acceptance rate between drivers who go to bars more than once a month and had passengers that were not a kid and had occupations other than farming, fishing, or forestry. \n"
   ]
  },
  {
   "cell_type": "code",
   "execution_count": 104,
   "metadata": {},
   "outputs": [
    {
     "name": "stdout",
     "output_type": "stream",
     "text": [
      "Acceptance rate for drivers who go to bars more than once a month and had passengers that were not a kid and had occupations other than farming, fishing, or forestry: 71.32%\n",
      "Acceptance rate for all other drivers: 29.60%\n"
     ]
    }
   ],
   "source": [
    "s1 = bar_coupons[\n",
    "    (bar_coupons['Bar'].isin(['1~3', '4~8', 'gt8'])) & \n",
    "    (bar_coupons['passanger'] != 'Kid(s)') & \n",
    "    (~bar_coupons['occupation'].isin(['Farming Fishing & Forestry']))\n",
    "]\n",
    "s2 = bar_coupons[\n",
    "    ~(\n",
    "        (bar_coupons['Bar'].isin(['1~3', '4~8', 'gt8'])) & \n",
    "        (bar_coupons['passanger'] != 'Kid(s)') & \n",
    "        (~bar_coupons['occupation'].isin(['Farming Fishing & Forestry']))\n",
    "    )\n",
    "]\n",
    "\n",
    "# Calculate acceptance rates\n",
    "acceptance_rate_subset_1 = s1['Y'].mean()\n",
    "acceptance_rate_subset_2 = s2['Y'].mean()\n",
    "\n",
    "print(f\"Acceptance rate for drivers who go to bars >= 1 time a month and had passengers that were not a kid and had occupations other than farming, fishing, or forestry: {acceptance_rate_subset_1:.2%}\")\n",
    "print(f\"Acceptance rate for all other drivers: {acceptance_rate_subset_2:.2%}\")"
   ]
  },
  {
   "cell_type": "markdown",
   "metadata": {},
   "source": [
    "6. Compare the acceptance rates between those drivers who:\n",
    "\n",
    "- go to bars more than once a month, had passengers that were not a kid, and were not widowed *OR*\n",
    "- go to bars more than once a month and are under the age of 30 *OR*\n",
    "- go to cheap restaurants more than 4 times a month and income is less than 50K. \n",
    "\n"
   ]
  },
  {
   "cell_type": "code",
   "execution_count": 152,
   "metadata": {},
   "outputs": [
    {
     "name": "stdout",
     "output_type": "stream",
     "text": [
      "Acceptance rate of those who go to bars more than once a month, had passengers that were not a kid, and were not widowed (group 1): 0.6223826714801444\n",
      "Acceptance rate of those who go to bars more than once a month and are under the age of 30 (group 2): 0.6475583864118896\n",
      "Acceptance rate of those who go to cheap restaurants more than 4 times a month and income is less than 50K (group 3): 0.6002928257686676\n"
     ]
    }
   ],
   "source": [
    "def acceptance_rate(data):\n",
    "    return data['Y'].mean()\n",
    "\n",
    "# Filter groups\n",
    "group_1 = data[(data['Bar'].isin(['2~3', '4~8', 'gt8'])) & \n",
    "                      (data['passanger'] != 'Kid(s)') & \n",
    "                      (data['maritalStatus'] != 'Widowed')]\n",
    "\n",
    "group_2 = data[(data['Bar'].isin(['2~3', '4~8', 'gt8'])) & \n",
    "                      (data['age'] < '30')]\n",
    "\n",
    "group_3 = data[(data['RestaurantLessThan20'].isin(['4~8', 'gt8'])) & \n",
    "                       (data['income'] < '$50000')]\n",
    "\n",
    "# Calculate acceptance rates\n",
    "rate_group_1 = acceptance_rate(group_1)\n",
    "rate_group_2 = acceptance_rate(group_2)\n",
    "rate_group_3 = acceptance_rate(group_3)\n",
    "\n",
    "print(\"Acceptance rate of those who go to bars more than once a month, had passengers that were not a kid, and were not widowed (group 1):\", rate_group_1)\n",
    "print(\"Acceptance rate of those who go to bars more than once a month and are under the age of 30 (group 2):\", rate_group_2)\n",
    "print(\"Acceptance rate of those who go to cheap restaurants more than 4 times a month and income is less than 50K (group 3):\", rate_group_3)"
   ]
  },
  {
   "cell_type": "markdown",
   "metadata": {},
   "source": [
    "7.  Based on these observations, what do you hypothesize about drivers who accepted the bar coupons?"
   ]
  },
  {
   "cell_type": "markdown",
   "metadata": {},
   "source": [
    "Those who go to bars more than once a month and are under the age of 30 are more likely to accept bar coupons. Younger individuals might be more inclined to accept bar coupons, possibly due to a higher tendency to socialize and try new things compared to older individuals."
   ]
  },
  {
   "cell_type": "markdown",
   "metadata": {},
   "source": [
    "### Independent Investigation\n",
    "\n",
    "Using the bar coupon example as motivation, you are to explore one of the other coupon groups and try to determine the characteristics of passengers who accept the coupons.  "
   ]
  },
  {
   "cell_type": "code",
   "execution_count": 219,
   "metadata": {},
   "outputs": [
    {
     "name": "stdout",
     "output_type": "stream",
     "text": [
      "Number of females: 6511\n"
     ]
    }
   ],
   "source": [
    "#Explore the gender stat differences in the dataset. See visualizations below.\n",
    "\n",
    "# first filtering the DataFrame to contain only females\n",
    "gender_data = data[data['gender'] == 'Female']\n",
    "\n",
    "row_count = gender_data.shape[0]\n",
    "\n",
    "\n",
    "print(f\"Number of females: {row_count}\")"
   ]
  },
  {
   "cell_type": "code",
   "execution_count": 183,
   "metadata": {},
   "outputs": [
    {
     "name": "stdout",
     "output_type": "stream",
     "text": [
      "Value counts for destination:\n",
      "destination\n",
      "No Urgent Place    3205\n",
      "Home               1687\n",
      "Work               1619\n",
      "Name: count, dtype: int64\n",
      "\n",
      "Value counts for time of day:\n",
      "time\n",
      "6PM     1669\n",
      "7AM     1619\n",
      "10AM    1153\n",
      "2PM     1042\n",
      "10PM    1028\n",
      "Name: count, dtype: int64\n",
      "\n",
      "Value counts for passengers:\n",
      "passanger\n",
      "Alone        3715\n",
      "Friend(s)    1634\n",
      "Kid(s)        614\n",
      "Partner       548\n",
      "Name: count, dtype: int64\n"
     ]
    }
   ],
   "source": [
    "destination_counts = gender_data['destination'].value_counts()\n",
    "time_counts = gender_data['time'].value_counts()\n",
    "passenger_counts = gender_data['passanger'].value_counts()\n",
    "\n",
    "print(\"Value counts for destination:\")\n",
    "print(destination_counts)\n",
    "print(\"\\nValue counts for time of day:\")\n",
    "print(time_counts)\n",
    "print(\"\\nValue counts for passengers:\")\n",
    "print(passenger_counts)"
   ]
  },
  {
   "cell_type": "code",
   "execution_count": 185,
   "metadata": {},
   "outputs": [
    {
     "name": "stdout",
     "output_type": "stream",
     "text": [
      "Number of males: 6173\n"
     ]
    }
   ],
   "source": [
    "# Filter the DataFrame to contain only males \n",
    "male_gender_data = data[data['gender'] == 'Male']\n",
    "\n",
    "row_count = male_gender_data.shape[0]\n",
    "\n",
    "\n",
    "print(f\"Number of males: {row_count}\")"
   ]
  },
  {
   "cell_type": "code",
   "execution_count": 192,
   "metadata": {},
   "outputs": [
    {
     "name": "stdout",
     "output_type": "stream",
     "text": [
      "Value counts for destination:\n",
      "destination\n",
      "No Urgent Place    3078\n",
      "Home               1550\n",
      "Work               1545\n",
      "Name: count, dtype: int64\n",
      "\n",
      "Value counts for time of day:\n",
      "time\n",
      "6PM     1561\n",
      "7AM     1545\n",
      "10AM    1122\n",
      "10PM     978\n",
      "2PM      967\n",
      "Name: count, dtype: int64\n",
      "\n",
      "Value counts for passengers:\n",
      "passanger\n",
      "Alone        3590\n",
      "Friend(s)    1664\n",
      "Partner       527\n",
      "Kid(s)        392\n",
      "Name: count, dtype: int64\n"
     ]
    }
   ],
   "source": [
    "m_destination_counts = male_gender_data['destination'].value_counts()\n",
    "m_time_counts = male_gender_data['time'].value_counts()\n",
    "m_passenger_counts = male_gender_data['passanger'].value_counts()\n",
    "\n",
    "print(\"Value counts for destination:\")\n",
    "print(m_destination_counts)\n",
    "print(\"\\nValue counts for time of day:\")\n",
    "print(m_time_counts)\n",
    "print(\"\\nValue counts for passengers:\")\n",
    "print(m_passenger_counts)"
   ]
  },
  {
   "cell_type": "code",
   "execution_count": 212,
   "metadata": {},
   "outputs": [],
   "source": [
    "destination_acceptance = male_gender_data.groupby('destination')['Y'].mean()\n",
    "\n",
    "# Calculate acceptance rates based on time of day\n",
    "time_acceptance = male_gender_data.groupby('time')['Y'].mean()\n",
    "\n",
    "# Calculate acceptance rates based on passengers\n",
    "passenger_acceptance = male_gender_data.groupby('passanger')['Y'].mean()\n",
    " \n",
    "\n",
    "destination_acceptance2 = gender_data.groupby('destination')['Y'].mean()\n",
    "\n",
    "# Calculate acceptance rates based on time of day\n",
    "time_acceptance2 = gender_data.groupby('time')['Y'].mean()\n",
    "\n",
    "# Calculate acceptance rates based on passengers\n",
    "passenger_acceptance2 = gender_data.groupby('passanger')['Y'].mean()\n",
    " "
   ]
  },
  {
   "cell_type": "code",
   "execution_count": 214,
   "metadata": {},
   "outputs": [
    {
     "data": {
      "image/png": "[encoded data removed]",
      "text/plain": [
       "<Figure size 1000x600 with 1 Axes>"
      ]
     },
     "metadata": {},
     "output_type": "display_data"
    }
   ],
   "source": [
    "plt.figure(figsize=(10, 6))\n",
    "sns.barplot(x=time_acceptance.index, y=time_acceptance.values, hue=time_acceptance.index, palette=\"viridis\", dodge=False)\n",
    "plt.title('Men Observations by Time of Day')\n",
    "plt.xlabel('Time of Day')\n",
    "plt.ylabel('Male observations')\n",
    "plt.ylim(0, 1)\n",
    "plt.show()"
   ]
  },
  {
   "cell_type": "code",
   "execution_count": 216,
   "metadata": {},
   "outputs": [
    {
     "data": {
      "image/png": "[encoded data removed]",
      "text/plain": [
       "<Figure size 1000x600 with 1 Axes>"
      ]
     },
     "metadata": {},
     "output_type": "display_data"
    }
   ],
   "source": [
    "plt.figure(figsize=(10, 6))\n",
    "sns.barplot(x=time_acceptance2.index, y=time_acceptance2.values, hue=time_acceptance2.index, palette=\"viridis\", dodge=False)\n",
    "plt.title('Female by Time of Day')\n",
    "plt.xlabel('Time of Day')\n",
    "plt.ylabel('Female observations')\n",
    "plt.ylim(0, 1)\n",
    "plt.show()"
   ]
  },
  {
   "cell_type": "markdown",
   "metadata": {},
   "source": [
    "It appears both men and women mimic similar time behavior however a higher percentage of men are observed earlier in the day and a higher percentage of women are observed in the middle of the day."
   ]
  },
  {
   "cell_type": "code",
   "execution_count": null,
   "metadata": {},
   "outputs": [],
   "source": []
  }
 ],
 "metadata": {
  "kernelspec": {
   "display_name": "Python 3 (ipykernel)",
   "language": "python",
   "name": "python3"
  },
  "language_info": {
   "codemirror_mode": {
    "name": "ipython",
    "version": 3
   },
   "file_extension": ".py",
   "mimetype": "text/x-python",
   "name": "python",
   "nbconvert_exporter": "python",
   "pygments_lexer": "ipython3",
   "version": "3.11.7"
  },
  "widgets": {
   "application/vnd.jupyter.widget-state+json": {
    "state": {},
    "version_major": 2,
    "version_minor": 0
   }
  }
 },
 "nbformat": 4,
 "nbformat_minor": 4
}
